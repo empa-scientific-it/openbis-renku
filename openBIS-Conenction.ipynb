{
 "cells": [
  {
   "cell_type": "markdown",
   "id": "4e71068c-3c33-497f-b7ed-1d700f2384df",
   "metadata": {},
   "source": [
    "# Pressure Sensor Dataset\n",
    "Plot all the measurements and sort out the ones not useful\n",
    "\n",
    "## Set up the environment"
   ]
  },
  {
   "cell_type": "code",
   "execution_count": null,
   "id": "8adf6b87-1693-45f7-bb4c-4cd14b30b9dc",
   "metadata": {
    "scrolled": true
   },
   "outputs": [],
   "source": [
    "import pybis\n",
    "import os\n",
    "import pandas as pd\n",
    "import glob\n",
    "import matplotlib.pyplot as plt\n",
    "from pathlib import Path\n",
    "from matplotlib.figure import Figure"
   ]
  },
  {
   "cell_type": "code",
   "execution_count": null,
   "id": "ac0f1f8d",
   "metadata": {},
   "outputs": [],
   "source": [
    "def get_token() -> str:\n",
    "    \"\"\"\n",
    "    This function gets the OpenBIS API key\n",
    "    which is provided by Renkulab through the \"Secrets\" as\n",
    "    a file stored in `/secrets/User-PAT_openBIS.txt`\n",
    "    \"\"\"\n",
    "    with open(\"/secrets/User-PAT_openBIS.txt\") as token_provider:\n",
    "        token = token_provider.read().strip()\n",
    "        return token\n",
    "\n",
    "get_token()"
   ]
  },
  {
   "cell_type": "code",
   "execution_count": null,
   "id": "75decbad-c658-43e7-ad61-6d14c271e018",
   "metadata": {},
   "outputs": [],
   "source": [
    "# add domain name, change the following to your own domain instance\n",
    "server = \"openbis-empa-test.ethz.ch\"\n",
    "ob_connection = pybis.Openbis(f\"https://{server}\")\n",
    "# add Personal Access Token: Found in Admin UI > Tools > Access > Personal Access Token\n",
    "# needs to be created if not done yet; owner will be the Registrator in openBIS\n",
    "\n",
    "# PAT is confidential: Could this be handled with secrets?\n",
    "ob_connection.set_token(get_token())\n",
    "\n",
    "print(ob_connection)"
   ]
  },
  {
   "cell_type": "code",
   "execution_count": null,
   "id": "e561c6ed",
   "metadata": {},
   "outputs": [],
   "source": [
    "os.getcwd()"
   ]
  },
  {
   "cell_type": "markdown",
   "id": "24476939-bdd7-4009-bff2-f7368a98727b",
   "metadata": {},
   "source": [
    "## Download datasets\n",
    "The following cell only to be runned if datasets are not yet downloaded"
   ]
  },
  {
   "cell_type": "code",
   "execution_count": null,
   "id": "ac4b01f4-5ac1-4038-9ecf-623b976e2ab0",
   "metadata": {},
   "outputs": [],
   "source": [
    "# get collection/ default experiment where data is located\n",
    "coll = ob_connection.get_collection(\"/GROUPA_STEFFI/RENKU_USE_CASE/RENKU_USE_CASE_EXP_4\")\n",
    "# get objects within the collection\n",
    "collection_objects = coll.get_objects()\n",
    "\n",
    "datasets = ob_connection.get_datasets(collection=coll, type=\"RAW_DATA\")\n",
    "\n",
    "#Create datasets folder\n",
    "ds_folder = \"./datasets\"\n",
    "Path(ds_folder).mkdir(exist_ok=True)\n",
    "#Donwload all datasets\n",
    "for dataset in datasets:\n",
    "    dataset.download(\n",
    "        destination = ds_folder,        # download files to folder my_data/\n",
    "        create_default_folders = False, # ignore the /original/DEFAULT folders made by openBIS\n",
    "        wait_until_finished = False,    # download in background, continue immediately\n",
    "        workers = 10                    # 10 downloads parallel (default)\n",
    "    )"
   ]
  },
  {
   "cell_type": "markdown",
   "id": "faabe2df",
   "metadata": {},
   "source": []
  },
  {
   "cell_type": "markdown",
   "id": "21b34e97",
   "metadata": {},
   "source": [
    "## Explore dataset\n",
    "After we are done downloading datasets from OpenBIS, we can have a look at them locally.\n",
    "\n",
    "Using `Pathlib.glob`, we can search for all files ending with \".csv\" in `ds_folder`, which in our case is `./datasets`, the folder were we just downloaded all data."
   ]
  },
  {
   "cell_type": "code",
   "execution_count": null,
   "id": "2b21c6b0-cfbb-426b-8bc1-9c0426de523c",
   "metadata": {},
   "outputs": [],
   "source": [
    "\n",
    "file_list = list(Path(ds_folder).glob(\"*.csv\")) + list(Path(ds_folder).glob(\"*.xlsx\"))\n",
    "print(f\"We found {len(file_list)} files matching csv and xlsx\")\n"
   ]
  },
  {
   "cell_type": "markdown",
   "id": "c7ac78aa",
   "metadata": {},
   "source": [
    "Now we can have a look at the file list:"
   ]
  },
  {
   "cell_type": "code",
   "execution_count": null,
   "id": "867c89a5-665c-4a5e-ad90-73f140fbdcdb",
   "metadata": {},
   "outputs": [],
   "source": [
    "file_list\n"
   ]
  },
  {
   "cell_type": "markdown",
   "id": "ec7f15f7-5df7-48f2-8acd-d0473bb88c49",
   "metadata": {},
   "source": [
    "And finally, we can load one example file using Pandas:\n",
    "\n",
    "Because we know the header is 8 lines long, we set `skiprows=8`."
   ]
  },
  {
   "cell_type": "code",
   "execution_count": null,
   "id": "3e3d1866-32eb-4033-9b1a-cfcf9f53a4d2",
   "metadata": {
    "scrolled": true
   },
   "outputs": [],
   "source": [
    "#example of one file\n",
    "df = pd.read_csv(file_list[1], sep=',', skiprows=8)  # adjust skiprows if needed. Since the first 8 rows are metadata from measurement, we can skip them for the plots\n",
    "df"
   ]
  },
  {
   "cell_type": "markdown",
   "id": "37fa697e",
   "metadata": {},
   "source": [
    "Now we can prepare a plot of \"Reading\" against \"Time\".\n",
    "To make it cleaner, we will prepare a plotting function:"
   ]
  },
  {
   "cell_type": "code",
   "execution_count": null,
   "id": "e5720803",
   "metadata": {},
   "outputs": [],
   "source": []
  },
  {
   "cell_type": "code",
   "execution_count": null,
   "id": "1c546fd4-4e31-419f-b2ce-56900c23c35f",
   "metadata": {
    "scrolled": true
   },
   "outputs": [],
   "source": [
    "def prepare_plot(df: pd.DataFrame, experiment_name: str) -> Figure:\n",
    "    fig, ax = plt.subplots()\n",
    "    ax.plot(df[\"Relative Time\"], df[\"Reading\"])\n",
    "    ax.set_title(experiment_name)\n",
    "    ax.set_xlabel(\"Relative Time\")\n",
    "    ax.set_ylabel(\"Reading\")\n",
    "    return fig\n",
    "\n",
    "\n",
    "plots = dict()\n",
    "for filepath in file_list[1:]:\n",
    "    #try:\n",
    "    # Read CSV or XLSX\n",
    "    match filepath.suffix:\n",
    "        case \".csv\":\n",
    "            df = pd.read_csv(filepath, sep=',', skiprows=8)  # adjust skiprows if needed\n",
    "        case \".xlsx\":\n",
    "            df = pd.read_excel(filepath)\n",
    "        case _:\n",
    "            continue\n",
    "    dfs.append(df)\n",
    "    print(filepath.name)\n",
    "    new_fig = prepare_plot(df, str(filepath.stem))\n",
    "    plots[filepath.stem] = new_fig\n",
    "    "
   ]
  },
  {
   "cell_type": "markdown",
   "id": "d1fa23b3-71cb-4e4d-a0b1-664b41c86412",
   "metadata": {},
   "source": [
    "## Cleaning the plots\n",
    "We get the whole list of names from 'files found by os.walk'.\n",
    "We then went through the list and split the plots into successful and unsuccessful experiments. The list are saved as separate textfiles.\n",
    "\n",
    "Successful experiments:\n",
    "- 230621_FS9-3.csv\n",
    "- 230314_FS_1-3.csv\n",
    "- 230206_FS_5-3_0207_151545.csv\n",
    "- pentanolfs_0922_160111.csv\n",
    "- 230605_FS2-3.csv\n",
    "- 230330_FS2-3.csv\n",
    "- 230207fs1-3_0208_153427.csv\n",
    "- FS_EtOH_220920_132622.csv\n",
    "- 230605_FS2-3.csv\n",
    "- 230307_FS_2-3.csv\n",
    "  \n",
    "unsuccessful experiments:\n",
    "- DMSO_FS_0923_133114.csv\n",
    "- FS-Aceton_220921_124032.csv\n",
    "- 230315_FS_5-3.csv\n",
    "- 230223_FS_5-3.csv\n",
    "- 230209_FS_2-3.csv\n",
    "- acetonfs_0924_150458.csv\n",
    "- 230530FS1-3.csv"
   ]
  },
  {
   "cell_type": "code",
   "execution_count": null,
   "id": "3ea7a2f9-6942-4e27-91e9-f01cc5e2e31c",
   "metadata": {},
   "outputs": [],
   "source": [
    "plots"
   ]
  },
  {
   "cell_type": "code",
   "execution_count": null,
   "id": "7b55132c-1c79-44a1-a406-f9a8a2904b06",
   "metadata": {},
   "outputs": [],
   "source": [
    "#read text files, clean the names\n",
    "with open(\"successful.txt\") as f:\n",
    "    successful_filenames = [line.strip() for line in f]  # removes whitespace and newlines\n",
    "with open(\"unsuccessful.txt\") as f:\n",
    "    unsuccessful_filenames = [line.strip() for line in f]\n",
    "\n",
    "successful_list = [f for f in file_list if os.path.basename(f) in successful_filenames]\n",
    "\n",
    "unsuccessful_list  = [f for f in file_list if os.path.basename(f) in unsuccessful_filenames]\n",
    "\n",
    "\n"
   ]
  },
  {
   "cell_type": "code",
   "execution_count": null,
   "id": "281ea049-0a88-4533-ad9e-385ab4b8e248",
   "metadata": {},
   "outputs": [],
   "source": [
    "#define the plot: could be done in a funciton\n",
    "\n",
    "def plot_group(file_list, title):\n",
    "    fig = plt.figure(figsize=(8,4))  # One figure for the whole group\n",
    "    for filepath in file_list:\n",
    "\n",
    "        # Read CSV or Excel\n",
    "        if filepath.suffix == \".csv\":\n",
    "            df = pd.read_csv(filepath, sep=',', skiprows=8)  # adjust skiprows if needed\n",
    "        else:\n",
    "            df = pd.read_excel(filepath)\n",
    "\n",
    "        # Plot line with filename as label\n",
    "        label = os.path.basename(filepath)\n",
    "        plt.plot(df[\"Relative Time\"], df[\"Reading\"], label=label, alpha=0.8)\n",
    "\n",
    "\n",
    "    plt.title(title)\n",
    "    plt.xlabel(\"Relative Time\")\n",
    "    plt.ylabel(\"Reading\")\n",
    "    plt.legend(loc='lower center')\n",
    "    plt.grid(True)\n",
    "    plt.tight_layout()\n",
    "    plt.show()\n",
    "    return fig"
   ]
  },
  {
   "cell_type": "code",
   "execution_count": null,
   "id": "7b60f2b9-2012-495e-89b6-b0fd7e5d64c5",
   "metadata": {},
   "outputs": [],
   "source": [
    "# Combined plot for successful files\n",
    "successful_fig = plot_group(successful_list, \"successful experiments\")\n",
    "\n",
    "# Combined plot for unsuccessful files\n",
    "unsuccessful_fig = plot_group(unsuccessful_list, \"unsuccessful experiments\")"
   ]
  },
  {
   "cell_type": "markdown",
   "id": "59e778bd",
   "metadata": {},
   "source": [
    "Now we want to save the results `successful_fig` and `unsuccessful_fig`in openBIS as a result.\n",
    "To do so, we first save them as PDF."
   ]
  },
  {
   "cell_type": "code",
   "execution_count": null,
   "id": "af2d3170",
   "metadata": {},
   "outputs": [],
   "source": [
    "successful_fig.savefig(\"sucessfull.png\")\n",
    "unsuccessful_fig.savefig(\"unsuccessful.png\")\n",
    "\n",
    "\n"
   ]
  },
  {
   "cell_type": "code",
   "execution_count": null,
   "id": "d4de5dc4",
   "metadata": {},
   "outputs": [],
   "source": [
    "\n",
    "dest_object = ob_connection.get_object(\"/GROUPA_STEFFI/RENKU_USE_CASE/FOLDER4\")\n",
    "\n",
    "ds_new = ob_connection.new_dataset(sample=dest_object, files=[\"sucessfull.png\", \"unsuccessful.png\"], type=\"ELN_PREVIEW\")\n",
    "ds_new.save()\n"
   ]
  }
 ],
 "metadata": {
  "kernelspec": {
   "display_name": "Python3",
   "language": "python",
   "name": "python3"
  },
  "language_info": {
   "codemirror_mode": {
    "name": "ipython",
    "version": 3
   },
   "file_extension": ".py",
   "mimetype": "text/x-python",
   "name": "python",
   "nbconvert_exporter": "python",
   "pygments_lexer": "ipython3",
   "version": "3.10.16"
  }
 },
 "nbformat": 4,
 "nbformat_minor": 5
}
